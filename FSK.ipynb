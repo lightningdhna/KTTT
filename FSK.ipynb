{
 "cells": [
  {
   "cell_type": "markdown",
   "source": [
    "# Communication system with FSK modulation/demodulation"
   ],
   "metadata": {
    "collapsed": false
   }
  },
  {
   "cell_type": "markdown",
   "source": [
    "# Khai báo thư viện"
   ],
   "metadata": {
    "collapsed": false
   }
  },
  {
   "cell_type": "code",
   "execution_count": 140,
   "metadata": {
    "ExecuteTime": {
     "start_time": "2023-07-10T14:52:47.712867Z",
     "end_time": "2023-07-10T14:52:48.800920Z"
    }
   },
   "outputs": [],
   "source": [
    "import numpy as np\n",
    "import matplotlib.pyplot as plt\n",
    "from scipy.special import erfc"
   ]
  },
  {
   "cell_type": "markdown",
   "source": [
    "# Khởi tạo tham số chung"
   ],
   "metadata": {
    "collapsed": false
   }
  },
  {
   "cell_type": "code",
   "execution_count": 141,
   "metadata": {
    "ExecuteTime": {
     "start_time": "2023-07-10T14:52:47.719844Z",
     "end_time": "2023-07-10T14:52:48.810893Z"
    }
   },
   "outputs": [],
   "source": [
    "np.random.seed(32)\n",
    "n = 200 # number of bit\n",
    "nb = 100 #number of samples per bit\n",
    "\n",
    "Tb = 0.001 #bit period\n",
    "br = 1/Tb #bit rate\n",
    "f1 = 2*br #carrier frequency 1\n",
    "f2 = 4*br #carrier frequency 2\n",
    "t = Tb * np.arange(0, n, 1/nb)"
   ]
  },
  {
   "cell_type": "markdown",
   "source": [
    "## 1. FSK Modulation\n",
    "### 1.1. Generate and plot the carrier signal"
   ],
   "metadata": {
    "collapsed": false
   }
  },
  {
   "cell_type": "code",
   "execution_count": 142,
   "metadata": {
    "ExecuteTime": {
     "start_time": "2023-07-10T14:52:47.726824Z",
     "end_time": "2023-07-10T14:52:49.321529Z"
    }
   },
   "outputs": [],
   "source": [
    "# define the carrier signal\n",
    "c1 = np.cos(2*np.pi*f1*t)     # carrier signal for bit 0\n",
    "c2 = np.cos(2*np.pi*f2*t)     # carrier signal for bit 1\n",
    "\n",
    "# plot carrier signal per bit\n",
    "plt.figure(figsize=(20,3))\n",
    "t_  = Tb*np.arange(0,1,1/100)\n",
    "plt.plot(t_,np.cos(2*np.pi*f1*t_))\n",
    "plt.plot(t_,np.cos(2*np.pi*f2*t_))\n",
    "plt.xlabel('Time(Sec)')\n",
    "plt.ylabel('Amplitude')\n",
    "plt.xticks(np.arange(0,Tb+Tb/10,Tb/10))\n",
    "plt.yticks(np.arange(-1,2,0.5))\n",
    "plt.grid(True)\n",
    "plt.title('Carrier Signal')\n",
    "plt.legend(['c1 = $\\cos(2\\pi f_1 t$)','c2 = $\\cos(2\\pi f_2 t)$'])\n",
    "plt.show()"
   ]
  },
  {
   "cell_type": "markdown",
   "source": [
    "### 1.2. Generate and plot the binary data sequence"
   ],
   "metadata": {
    "collapsed": false
   }
  },
  {
   "cell_type": "code",
   "execution_count": 143,
   "metadata": {
    "ExecuteTime": {
     "start_time": "2023-07-10T14:52:47.733807Z",
     "end_time": "2023-07-10T14:52:49.519997Z"
    }
   },
   "outputs": [],
   "source": [
    "# generate the binary data sequence\n",
    "x = np.random.randint(2, size = n)\n",
    "digit = np.empty(shape=0, dtype=int)\n",
    "for i in range(0,n,1):\n",
    "    if x[i] == 1:\n",
    "        digit = np.append(digit,np.ones(nb))\n",
    "    else:\n",
    "        digit = np.append(digit,np.zeros(nb))\n",
    "\n",
    "# plot the binary data signal\n",
    "plt.figure(figsize = (20, 3))\n",
    "plt.title('Digital input signal')\n",
    "plt.xticks(1000*np.arange(0,Tb*n,Tb*10))\n",
    "plt.xlim(0,100)\n",
    "plt.xlabel('Time (millisecond))')\n",
    "plt.ylabel('Signal')\n",
    "plt.step(1000*np.arange(0,Tb*n,Tb), x)\n",
    "plt.grid(True)\n",
    "plt.margins(x=0.01, y=0.05)\n",
    "plt.show()"
   ]
  },
  {
   "cell_type": "markdown",
   "source": [
    "### 1.3. Perform FSK modulation and plot the FSK modulated signal"
   ],
   "metadata": {
    "collapsed": false
   }
  },
  {
   "cell_type": "code",
   "execution_count": 144,
   "metadata": {
    "ExecuteTime": {
     "start_time": "2023-07-10T14:52:47.741783Z",
     "end_time": "2023-07-10T14:52:49.831167Z"
    }
   },
   "outputs": [],
   "source": [
    "# perform FSK modulation\n",
    "modulated_signal = np.where(digit == 0, c1, c2)\n",
    "\n",
    "# plot the FSK modulated signal\n",
    "plt.figure(figsize=(20,4))\n",
    "plt.plot(1000 * t, modulated_signal)\n",
    "plt.xlabel('Time (Millisecond)')\n",
    "plt.ylabel('Amplitude (Volts)')\n",
    "plt.xticks(1000*np.arange(0,Tb*n+Tb,Tb*10))\n",
    "plt.xlim(0,100)\n",
    "plt.yticks(np.arange(-1,1.5,0.5))\n",
    "plt.grid(True)\n",
    "plt.title('Modulated Signal')\n",
    "plt.margins(x=0.01, y=0.05)\n",
    "plt.show()"
   ]
  },
  {
   "cell_type": "code",
   "execution_count": 145,
   "metadata": {
    "ExecuteTime": {
     "start_time": "2023-07-10T14:52:47.741783Z",
     "end_time": "2023-07-10T14:52:49.841138Z"
    }
   },
   "outputs": [],
   "source": [
    "# demodulate the signal function\n",
    "E1 = np.sum(c1[0:nb] ** 2) #energy of c1\n",
    "E1 = np.sum(c2[0:nb] ** 2) #energy of c2\n",
    "def demodulate(input_modulated_signal):\n",
    "    demodulated_binary_data=np.empty(shape=n, dtype=int) #empty array contain demodulated bit\n",
    "    for i in range(0, n*nb, nb):\n",
    "        I1 = np.trapz(input_modulated_signal[i:i + nb] * c1[i:i + nb]) #calculate Convolution of FSK modulated signal and carrier signal c1\n",
    "        I2 = np.trapz(input_modulated_signal[i:i + nb] * c2[i:i + nb]) #calculate Convolution of FSK modulated signal and carrier signal c2\n",
    "        #Correlate the FSK modulated signal with the carrier signal to generate decision variables.\n",
    "        if I1 - 1/2*E1 > I2 - 1/2*E1:\n",
    "            demodulated_binary_data[np.floor(i/nb).astype('int')] = 0\n",
    "        else:\n",
    "            demodulated_binary_data[np.floor(i/nb).astype('int')] = 1\n",
    "    return demodulated_binary_data"
   ]
  },
  {
   "cell_type": "code",
   "execution_count": 146,
   "metadata": {
    "ExecuteTime": {
     "start_time": "2023-07-10T14:52:47.826526Z",
     "end_time": "2023-07-10T14:52:50.072544Z"
    }
   },
   "outputs": [],
   "source": [
    "# demodulate the signal\n",
    "demod = demodulate(modulated_signal)\n",
    "\n",
    "# plot the demodulated binary data sequence\n",
    "plt.figure(figsize = (20, 3))\n",
    "plt.title('Demodulated binary data sequence')\n",
    "plt.xticks(1000*np.arange(0,Tb*n,Tb*10))\n",
    "plt.xlim(0,100)\n",
    "plt.xlabel('Time (millisecond)')\n",
    "plt.ylabel('Signal')\n",
    "plt.yticks([0,1])\n",
    "plt.step(1000*np.arange(0,Tb*n,Tb), demod)\n",
    "plt.margins(x=0.01, y=0.05)\n",
    "plt.grid(True)"
   ]
  },
  {
   "cell_type": "code",
   "execution_count": 147,
   "metadata": {
    "ExecuteTime": {
     "start_time": "2023-07-10T14:52:47.826526Z",
     "end_time": "2023-07-10T14:52:50.494392Z"
    }
   },
   "outputs": [],
   "source": [
    "N0 = 16\n",
    "std = np.sqrt(N0/2)\n",
    "\n",
    "#FSK Modulation with AWGN\n",
    "awgn_mod = modulated_signal + np.random.normal(0, std, len(modulated_signal))\n",
    "\n",
    "# plot the modulated signal with AWGN\n",
    "plt.figure(figsize=(20,4))\n",
    "plt.plot(1000*t,awgn_mod)\n",
    "plt.xlabel('Time(millisecond)')\n",
    "plt.ylabel('Amplitude')\n",
    "plt.xticks(1000*np.arange(0,Tb*n+Tb,Tb*10))\n",
    "plt.xlim(10)\n",
    "plt.grid(True)\n",
    "plt.title('Modulated Signal with AWGN')\n",
    "plt.margins(x=0.01, y=0.05)\n",
    "plt.show()"
   ]
  },
  {
   "cell_type": "code",
   "execution_count": 148,
   "metadata": {
    "ExecuteTime": {
     "start_time": "2023-07-10T14:52:47.826526Z",
     "end_time": "2023-07-10T14:52:50.708819Z"
    }
   },
   "outputs": [],
   "source": [
    "# demodulate the signal with AWGN\n",
    "awgn_demod = demodulate(awgn_mod)\n",
    "\n",
    "# plot the demodulated binary data sequence with effect of AWGN\n",
    "plt.figure(figsize = (20, 3))\n",
    "plt.title('Demodulated binary data sequence under the effect of AWGN')\n",
    "plt.xticks(1000*np.arange(0,Tb*n,Tb*10))\n",
    "plt.xlim(0,100)\n",
    "plt.xlabel('Time (millisecond)')\n",
    "plt.ylabel('Signal')\n",
    "plt.yticks([0,1])\n",
    "plt.step(1000*np.arange(0,Tb*n,Tb), awgn_demod)\n",
    "plt.grid(True)\n",
    "plt.margins(x=0.01, y=0.05)\n",
    "plt.show()"
   ]
  },
  {
   "cell_type": "code",
   "execution_count": 149,
   "metadata": {
    "ExecuteTime": {
     "start_time": "2023-07-10T14:52:47.826526Z",
     "end_time": "2023-07-10T14:52:50.971946Z"
    }
   },
   "outputs": [],
   "source": [
    "#Numerically compute the error probability \n",
    "Pb = np.count_nonzero(awgn_demod - x)/len(x)\n",
    "print(f\"BER = {Pb * 100}%\")\n",
    "\n",
    "plt.figure(figsize = (20, 3))\n",
    "plt.title('Demodulated binary data sequence')\n",
    "plt.xticks(1000*np.arange(0,Tb*n,Tb*10))\n",
    "# plt.xlim(0,100)\n",
    "plt.xlabel('Time (millisecond)')\n",
    "plt.ylabel('Signal')\n",
    "plt.yticks([0,1])\n",
    "\n",
    "plt.step(1000*np.arange(0,Tb*n,Tb), demod)\n",
    "plt.step(1000*np.arange(0,Tb*n,Tb), x -demod )\n",
    "\n",
    "plt.margins(x=0.01, y=0.05)\n",
    "plt.grid(True)"
   ]
  },
  {
   "cell_type": "code",
   "execution_count": 150,
   "metadata": {
    "ExecuteTime": {
     "start_time": "2023-07-10T14:52:47.991085Z",
     "end_time": "2023-07-10T14:52:51.646668Z"
    }
   },
   "outputs": [],
   "source": [
    "# Generate BER simulation for 2-FSK\n",
    "E1 = np.trapz((c1**2)[0:nb])    # energy per bit for bit 0\n",
    "E2 = np.trapz((c2**2)[0:nb])    # energy per bit for bit 1\n",
    "Eb = 1/2 * (E1 + E2)            # energy per bit\n",
    "\n",
    "#Calculate BER with different signal noise ratio \n",
    "snr_db = np.linspace(-20,12,110) #array of signal noise ratio in db form \n",
    "ber = np.zeros_like(snr_db).astype('double') #BER array \n",
    "sigma = np.zeros_like(snr_db).astype('double') #std\n",
    "for i in range(len(snr_db)):\n",
    "    sigma[i] = np.sqrt(1/2 * Eb / (10**(snr_db[i]/10))) # calculate std. Using snr_db = 10 * log10(Eb/N0)\n",
    "    awgn_mod = modulated_signal + np.random.normal(0, sigma[i], len(modulated_signal)) #add AWGN\n",
    "    awgn_demod = demodulate(awgn_mod) #demodulation\n",
    "    ber[i] = np.count_nonzero(awgn_demod - x) / len(x)  #calculate BER"
   ]
  },
  {
   "cell_type": "code",
   "execution_count": 151,
   "metadata": {
    "ExecuteTime": {
     "start_time": "2023-07-10T14:52:48.793939Z",
     "end_time": "2023-07-10T14:52:52.114416Z"
    }
   },
   "outputs": [],
   "source": [
    "ber_theory = 1/2 * erfc(np.sqrt(10**(snr_db/10)/2)) # calculates the theoretical BER = 1/2 * erfc(1/sqrt(2) * sqrt(Eb/N0))\n",
    "plt.semilogy(snr_db, ber_theory, 'g-', linewidth = 3)   # plot the theoretical BER\n",
    "plt.semilogy(snr_db, ber, 'b.')     # plot the BER simulation results \n",
    "plt.plot( 10 * np.log10(Eb/N0), Pb, color = '#EB455F', marker = 'o') # plot the BER simulation results for AWGN with N0 = 16 (snr_db = 10 * log10(Eb/N0))\n",
    "plt.xlabel('SNR (dB)')\n",
    "plt.ylabel('BER')\n",
    "plt.grid(True)\n",
    "plt.tight_layout()\n",
    "plt.legend(['BER theory', 'BER simulation', 'BER simulation with $N_0$ = 16'], fontsize = 8)\n",
    "plt.show()"
   ]
  }
 ],
 "metadata": {
  "kernelspec": {
   "display_name": "base",
   "language": "python",
   "name": "python3"
  },
  "language_info": {
   "codemirror_mode": {
    "name": "ipython",
    "version": 3
   },
   "file_extension": ".py",
   "mimetype": "text/x-python",
   "name": "python",
   "nbconvert_exporter": "python",
   "pygments_lexer": "ipython3",
   "version": "3.10.9"
  },
  "orig_nbformat": 4
 },
 "nbformat": 4,
 "nbformat_minor": 2
}
